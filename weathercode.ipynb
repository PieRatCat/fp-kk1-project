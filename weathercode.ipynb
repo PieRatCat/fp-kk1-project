{
 "cells": [
  {
   "cell_type": "code",
   "execution_count": 48,
   "id": "c4797049",
   "metadata": {},
   "outputs": [],
   "source": [
    "import sqlite3\n",
    "from pyowm import OWM\n",
    "import os\n",
    "import requests\n",
    "from dotenv import load_dotenv\n",
    "import datetime"
   ]
  },
  {
   "cell_type": "code",
   "execution_count": 49,
   "id": "74d7b4b9",
   "metadata": {},
   "outputs": [],
   "source": [
    "# Load OWM API key from .env file\n",
    "load_dotenv()\n",
    "api_key = os.getenv('OWM_API_KEY')"
   ]
  },
  {
   "cell_type": "code",
   "execution_count": 50,
   "id": "33e99695",
   "metadata": {},
   "outputs": [],
   "source": [
    "# Create a SQLite database with a table for weather data\n",
    "DB_FILE = 'weatherdata.db'\n",
    "conn = sqlite3.connect(DB_FILE)\n",
    "cursor = conn.cursor()"
   ]
  },
  {
   "cell_type": "code",
   "execution_count": 51,
   "id": "d17b1630",
   "metadata": {},
   "outputs": [],
   "source": [
    "# Create the table if it doesn't exist, runs only once\n",
    "sql_create_table ='''\n",
    "    CREATE TABLE IF NOT EXISTS hbg_weather (\n",
    "        id INTEGER PRIMARY KEY AUTOINCREMENT,\n",
    "        timestamp TEXT NOT NULL,\n",
    "        status TEXT NOT NULL,\n",
    "        temperature REAL NOT NULL,\n",
    "        humidity REAL NOT NULL,\n",
    "        wind REAL NOT NULL,\n",
    "        clouds REAL NOT NULL\n",
    "    );\n",
    "'''\n",
    "cursor.execute(sql_create_table)\n",
    "\n",
    "# Commit the changes and close the connection\n",
    "conn.commit()\n",
    "conn.close()"
   ]
  },
  {
   "cell_type": "code",
   "execution_count": null,
   "id": "919d449f",
   "metadata": {},
   "outputs": [],
   "source": [
    "# pyowm https://github.com/csparpa/pyowm\n",
    "def get_weather_data(place='Helsingborg,SE'):\n",
    "    owm = OWM(api_key)\n",
    "    mgr = owm.weather_manager()\n",
    "\n",
    "    # Current weather in Helsingborg\n",
    "    observation = mgr.weather_at_place(place)\n",
    "    w = observation.weather\n",
    "\n",
    "    status = w.detailed_status\n",
    "    temperature = w.temperature('celsius')\n",
    "    wind = w.wind()\n",
    "    humidity = w.humidity\n",
    "    clouds = w.clouds\n",
    "    timestamp = datetime.datetime.now().isoformat()\n",
    "\n",
    "    return (timestamp, status, temperature['temp'], humidity, wind.get('speed', 0), clouds)"
   ]
  },
  {
   "cell_type": "code",
   "execution_count": null,
   "id": "99fb2eb0",
   "metadata": {},
   "outputs": [
    {
     "name": "stdout",
     "output_type": "stream",
     "text": [
      "Data inserted successfully.\n"
     ]
    }
   ],
   "source": [
    "# Insert weather data into the table\n",
    "def insert_weather(data):\n",
    "    conn = sqlite3.connect(DB_FILE)\n",
    "    cursor = conn.cursor()    \n",
    "     \n",
    "    sql_insert = '''\n",
    "        INSERT INTO hbg_weather (timestamp, status, temperature, humidity, wind, clouds)\n",
    "        VALUES (?, ?, ?, ?, ?, ?);\n",
    "    '''\n",
    "    try:\n",
    "        cursor.execute(sql_insert, data)\n",
    "        conn.commit()\n",
    "        print(\"Data inserted successfully.\")\n",
    "    except sqlite3.Error as e:\n",
    "        print(f\"Error inserting data: {e}\")\n",
    "        # Log the error here\n",
    "    finally:\n",
    "        conn.close()\n",
    "\n",
    "# Get the latest weather data and insert it into the database\n",
    "weather_data_to_insert = get_weather_data()\n",
    "insert_weather(weather_data_to_insert)"
   ]
  },
  {
   "cell_type": "code",
   "execution_count": 76,
   "id": "81a3e21a",
   "metadata": {},
   "outputs": [
    {
     "name": "stdout",
     "output_type": "stream",
     "text": [
      "(1, '2025-08-28T19:58:16.748380', 'light rain', 18.87, 82.0, 4.48, 100.0)\n"
     ]
    }
   ],
   "source": [
    "# Check that data has been inserted\n",
    "def select_all_data():\n",
    "    conn = sqlite3.connect(DB_FILE)\n",
    "    cursor = conn.cursor()\n",
    "    \n",
    "    cursor.execute(\"SELECT * FROM hbg_weather;\")\n",
    "    \n",
    "    rows = cursor.fetchall()\n",
    "    \n",
    "    for row in rows:\n",
    "        print(row)\n",
    "        \n",
    "    conn.close()\n",
    "\n",
    "select_all_data()"
   ]
  }
 ],
 "metadata": {
  "kernelspec": {
   "display_name": "fp-project",
   "language": "python",
   "name": "python3"
  },
  "language_info": {
   "codemirror_mode": {
    "name": "ipython",
    "version": 3
   },
   "file_extension": ".py",
   "mimetype": "text/x-python",
   "name": "python",
   "nbconvert_exporter": "python",
   "pygments_lexer": "ipython3",
   "version": "3.13.5"
  }
 },
 "nbformat": 4,
 "nbformat_minor": 5
}
